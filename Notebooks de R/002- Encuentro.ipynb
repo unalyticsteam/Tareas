{
 "cells": [
  {
   "cell_type": "markdown",
   "metadata": {},
   "source": [
    "# Notas\n",
    "\n",
    "* En el proximo encuntro  se dara un pequeño repaso sobre lo visto el dias hoy. El material de ayuda  sobre estructuras de datos y estructuras de control se encuentran en la [Pagina](https://unalyticsteam.github.io/unalytics.github.io/).\n",
    "* En el  proximo encuentro se ecomenzara el tema de **Funciones especializadas en R**, sobre este se encuentras notas en la página web.\n",
    "* Es importante que ustedes den recomendaciones sobre el semillero, su desarrollo y contenido de este."
   ]
  },
  {
   "cell_type": "markdown",
   "metadata": {},
   "source": [
    "\n",
    "\n",
    "# Tareas "
   ]
  },
  {
   "cell_type": "markdown",
   "metadata": {},
   "source": [
    "Haga un algoritmo en R que permita, registrar las siguientes características de un número (n) de personas. \n",
    "\n",
    "1) Genero\n",
    "* M\n",
    "* F\n",
    "\n",
    "2) Edad en años\n",
    "\n",
    "3) Se encuentra trabajando o ha trabajado\n",
    "* S\n",
    "* N\n",
    "\n",
    "4) Cuál es su lenguaje de programación favorito<br>\n",
    "a) Python<br>\n",
    "b) R<br>\n",
    "<br>\n",
    "\n",
    "5) Cuál es su mayor interés al estar en el semillero <br>\n",
    "a Programación <br>\n",
    "b) Analítica de datos<br>\n",
    "c) Inteligencia Artificial <br>\n",
    "d) La comunidad<br>\n",
    "<br>\n",
    "\n",
    "El algoritmo permitirá elegir cuál es el numero (n) de personas a registrar. \n",
    "Permitirá al usuario ingresar mayúsculas o minúsculas en la respuesta de selección múltiple.\n",
    "Permitirá revisar la información ingresada por el ultimo usuario que se registró.\n",
    "Permitirá revisar la información de todos los usuarios que se registraron.\n",
    "Permitirá mostrar la edad promedio y la frecuencia del género de todos los usuarios registrados.  \n",
    "\n",
    "\n"
   ]
  },
  {
   "cell_type": "markdown",
   "metadata": {},
   "source": [
    "# Solución"
   ]
  },
  {
   "cell_type": "code",
   "execution_count": null,
   "metadata": {},
   "outputs": [],
   "source": [
    "library(gdata)\n",
    "\n",
    "TomaDatos<- function(NumeroPersonas = 5){\n",
    "  Genero <- vector()\n",
    "  Edad <- vector()\n",
    "  Trabaja <- vector()\n",
    "  Lenguaje <- vector()\n",
    "  Interes <- vector()\n",
    "  for (i in 1:NumeroPersonas) {\n",
    "    Genero[i] <- readline(\"Por favor ingrese su genero (M/F) : \")\n",
    "    Edad[i] <- as.integer(readline(\"Por favor ingrese su edad : \"))\n",
    "    Trabaja[i] <- readline(\"Se encuentra trabajando o a trabajado (s/n) : \")\n",
    "    Lenguaje[i] <- readline(\"Cual es su lenguaje de programacion favorito: \\na)Python\\nb)R\")\n",
    "    Interes[i] <- readline(\"Cual es su mayor interes al estar en el semillero: \\na) Programación \\nb)Analítica de datos\\nc)Inteligencia Artificial \\nd)La comunidad \")\n",
    "    revisa <- readline(\"Quiere revisar la información ingresada? (s/n): \")\n",
    "    if (revisa == \"s\" || revisa == \"S\") {\n",
    "        x <- paste(\"Genero: \", Genero[i],\" \" ,\"Edad: \",Edad[i],\"  \", \"Trabaja\",\n",
    "                 Trabaja[i], \"Lenguaje: \", case(Lenguaje[i], \"Python\"= \"a\",\"R\"= \"b\"),\n",
    "                 \"  \", \"Interes: \", case(Interes[i],\"Programación\"=\"a\", \"Analítica de datos\"=\"b\",\n",
    "                                         \"Inteligencia Artificial\"=\"c\", \"La comunidad\" = \"d\"))\n",
    "      print(x)\n",
    "      cat(\"Llame a el siguiente interesado\")\n",
    "      }\n",
    "    else{\n",
    "      cat(\"Llame a el siguiente interesado\\n\\n\")\n",
    "      }}\n",
    "  Quiere <- readline(\"Que le gustaria hacer ahora: \\na) Ver el data frame de la informaciòn\\nb)Ver un resumen de la informaciòn \")\n",
    "  if (Quiere == \"a\") {\n",
    "    base <- data.frame(Genero,Edad,Trabaja,Lenguaje, Interes)\n",
    "    base\n",
    "    }\n",
    "  else{\n",
    "    H <- ifelse(Genero == \"M\" | Genero == \"m\" , 1, 0)\n",
    "    f <- ifelse(Genero == \"F\" | Genero == \"f\", 1, 0)\n",
    "    ho <- 0\n",
    "    for (i in 1:length(H)) {\n",
    "       ho <- ho + H[i]\n",
    "       }\n",
    "    \n",
    "    fe <- 0\n",
    "    for (i in 1:length(f)) {\n",
    "      fe <- fe + f[i]\n",
    "      }\n",
    "    Edad1 <- 0\n",
    "    for (j in 1:length(Edad)) {\n",
    "      Edad1 = Edad[j] + Edad1 \n",
    "      Edad1 = Edad1/length(Edad)\n",
    "      }\n",
    "    resumen <- list(EdadPromedio = Edad1, FrecuenciaGenero = data.frame(Hombres = ho, Mujeres = fe))\n",
    "    resumen\n",
    "    }\n",
    "}\n",
    "TomaDatos(2)"
   ]
  },
  {
   "cell_type": "markdown",
   "metadata": {},
   "source": [
    "## Notas sobre el código\n",
    "\n",
    "* Buscar documentación sobre las funciones `case()` del paquete `gdata` y la función `paste()`. La forma de hacer esto es :\n",
    "\n",
    "<hr>\n",
    "\n",
    "        ?paste\n",
    "        \n",
    " <hr>\n",
    " \n",
    "         ?case"
   ]
  }
 ],
 "metadata": {
  "kernelspec": {
   "display_name": "R",
   "language": "R",
   "name": "ir"
  },
  "latex_envs": {
   "LaTeX_envs_menu_present": true,
   "autoclose": false,
   "autocomplete": true,
   "bibliofile": "biblio.bib",
   "cite_by": "apalike",
   "current_citInitial": 1,
   "eqLabelWithNumbers": true,
   "eqNumInitial": 1,
   "hotkeys": {
    "equation": "Ctrl-E",
    "itemize": "Ctrl-I"
   },
   "labels_anchors": false,
   "latex_user_defs": false,
   "report_style_numbering": false,
   "user_envs_cfg": false
  }
 },
 "nbformat": 4,
 "nbformat_minor": 2
}
