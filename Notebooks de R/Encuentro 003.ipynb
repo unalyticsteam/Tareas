{
 "cells": [
  {
   "cell_type": "markdown",
   "metadata": {},
   "source": [
    "\n",
    "\n",
    "![](logo.jpg)\n",
    "\n",
    "<p style=\"font-family: times, serif; font-size:30pt; font-style:italic ; center\">\n",
    "    Semillero de analítica de datos \n",
    "</p>"
   ]
  },
  {
   "cell_type": "markdown",
   "metadata": {
    "heading_collapsed": true
   },
   "source": [
    "# Vectorización"
   ]
  },
  {
   "cell_type": "code",
   "execution_count": 24,
   "metadata": {
    "hidden": true
   },
   "outputs": [
    {
     "data": {
      "text/html": [
       "<ol class=list-inline>\n",
       "\t<li>1</li>\n",
       "\t<li>2</li>\n",
       "\t<li>3</li>\n",
       "\t<li>4</li>\n",
       "\t<li>5</li>\n",
       "\t<li>6</li>\n",
       "\t<li>7</li>\n",
       "\t<li>8</li>\n",
       "\t<li>9</li>\n",
       "\t<li>10</li>\n",
       "\t<li>11</li>\n",
       "\t<li>12</li>\n",
       "\t<li>13</li>\n",
       "\t<li>14</li>\n",
       "\t<li>15</li>\n",
       "\t<li>16</li>\n",
       "\t<li>17</li>\n",
       "\t<li>18</li>\n",
       "\t<li>19</li>\n",
       "\t<li>20</li>\n",
       "</ol>\n"
      ],
      "text/latex": [
       "\\begin{enumerate*}\n",
       "\\item 1\n",
       "\\item 2\n",
       "\\item 3\n",
       "\\item 4\n",
       "\\item 5\n",
       "\\item 6\n",
       "\\item 7\n",
       "\\item 8\n",
       "\\item 9\n",
       "\\item 10\n",
       "\\item 11\n",
       "\\item 12\n",
       "\\item 13\n",
       "\\item 14\n",
       "\\item 15\n",
       "\\item 16\n",
       "\\item 17\n",
       "\\item 18\n",
       "\\item 19\n",
       "\\item 20\n",
       "\\end{enumerate*}\n"
      ],
      "text/markdown": [
       "1. 1\n",
       "2. 2\n",
       "3. 3\n",
       "4. 4\n",
       "5. 5\n",
       "6. 6\n",
       "7. 7\n",
       "8. 8\n",
       "9. 9\n",
       "10. 10\n",
       "11. 11\n",
       "12. 12\n",
       "13. 13\n",
       "14. 14\n",
       "15. 15\n",
       "16. 16\n",
       "17. 17\n",
       "18. 18\n",
       "19. 19\n",
       "20. 20\n",
       "\n",
       "\n"
      ],
      "text/plain": [
       " [1]  1  2  3  4  5  6  7  8  9 10 11 12 13 14 15 16 17 18 19 20"
      ]
     },
     "metadata": {},
     "output_type": "display_data"
    }
   ],
   "source": [
    "x <- 1:20\n",
    "x"
   ]
  },
  {
   "cell_type": "code",
   "execution_count": 25,
   "metadata": {
    "hidden": true
   },
   "outputs": [
    {
     "data": {
      "text/html": [
       "<ol class=list-inline>\n",
       "\t<li>1</li>\n",
       "\t<li>4</li>\n",
       "\t<li>9</li>\n",
       "\t<li>16</li>\n",
       "\t<li>25</li>\n",
       "\t<li>36</li>\n",
       "\t<li>49</li>\n",
       "\t<li>64</li>\n",
       "\t<li>81</li>\n",
       "\t<li>100</li>\n",
       "\t<li>121</li>\n",
       "\t<li>144</li>\n",
       "\t<li>169</li>\n",
       "\t<li>196</li>\n",
       "\t<li>225</li>\n",
       "\t<li>256</li>\n",
       "\t<li>289</li>\n",
       "\t<li>324</li>\n",
       "\t<li>361</li>\n",
       "\t<li>400</li>\n",
       "</ol>\n"
      ],
      "text/latex": [
       "\\begin{enumerate*}\n",
       "\\item 1\n",
       "\\item 4\n",
       "\\item 9\n",
       "\\item 16\n",
       "\\item 25\n",
       "\\item 36\n",
       "\\item 49\n",
       "\\item 64\n",
       "\\item 81\n",
       "\\item 100\n",
       "\\item 121\n",
       "\\item 144\n",
       "\\item 169\n",
       "\\item 196\n",
       "\\item 225\n",
       "\\item 256\n",
       "\\item 289\n",
       "\\item 324\n",
       "\\item 361\n",
       "\\item 400\n",
       "\\end{enumerate*}\n"
      ],
      "text/markdown": [
       "1. 1\n",
       "2. 4\n",
       "3. 9\n",
       "4. 16\n",
       "5. 25\n",
       "6. 36\n",
       "7. 49\n",
       "8. 64\n",
       "9. 81\n",
       "10. 100\n",
       "11. 121\n",
       "12. 144\n",
       "13. 169\n",
       "14. 196\n",
       "15. 225\n",
       "16. 256\n",
       "17. 289\n",
       "18. 324\n",
       "19. 361\n",
       "20. 400\n",
       "\n",
       "\n"
      ],
      "text/plain": [
       " [1]   1   4   9  16  25  36  49  64  81 100 121 144 169 196 225 256 289 324 361\n",
       "[20] 400"
      ]
     },
     "metadata": {},
     "output_type": "display_data"
    }
   ],
   "source": [
    "x^2"
   ]
  },
  {
   "cell_type": "code",
   "execution_count": 26,
   "metadata": {
    "hidden": true
   },
   "outputs": [
    {
     "data": {
      "text/html": [
       "<ol class=list-inline>\n",
       "\t<li>30</li>\n",
       "\t<li>31</li>\n",
       "\t<li>32</li>\n",
       "\t<li>33</li>\n",
       "\t<li>34</li>\n",
       "\t<li>35</li>\n",
       "\t<li>36</li>\n",
       "\t<li>37</li>\n",
       "\t<li>38</li>\n",
       "\t<li>39</li>\n",
       "\t<li>40</li>\n",
       "\t<li>41</li>\n",
       "\t<li>42</li>\n",
       "\t<li>43</li>\n",
       "\t<li>44</li>\n",
       "\t<li>45</li>\n",
       "\t<li>46</li>\n",
       "\t<li>47</li>\n",
       "\t<li>48</li>\n",
       "\t<li>49</li>\n",
       "</ol>\n"
      ],
      "text/latex": [
       "\\begin{enumerate*}\n",
       "\\item 30\n",
       "\\item 31\n",
       "\\item 32\n",
       "\\item 33\n",
       "\\item 34\n",
       "\\item 35\n",
       "\\item 36\n",
       "\\item 37\n",
       "\\item 38\n",
       "\\item 39\n",
       "\\item 40\n",
       "\\item 41\n",
       "\\item 42\n",
       "\\item 43\n",
       "\\item 44\n",
       "\\item 45\n",
       "\\item 46\n",
       "\\item 47\n",
       "\\item 48\n",
       "\\item 49\n",
       "\\end{enumerate*}\n"
      ],
      "text/markdown": [
       "1. 30\n",
       "2. 31\n",
       "3. 32\n",
       "4. 33\n",
       "5. 34\n",
       "6. 35\n",
       "7. 36\n",
       "8. 37\n",
       "9. 38\n",
       "10. 39\n",
       "11. 40\n",
       "12. 41\n",
       "13. 42\n",
       "14. 43\n",
       "15. 44\n",
       "16. 45\n",
       "17. 46\n",
       "18. 47\n",
       "19. 48\n",
       "20. 49\n",
       "\n",
       "\n"
      ],
      "text/plain": [
       " [1] 30 31 32 33 34 35 36 37 38 39 40 41 42 43 44 45 46 47 48 49"
      ]
     },
     "metadata": {},
     "output_type": "display_data"
    }
   ],
   "source": [
    "y <- 30:49\n",
    "y"
   ]
  },
  {
   "cell_type": "code",
   "execution_count": 27,
   "metadata": {
    "hidden": true
   },
   "outputs": [
    {
     "data": {
      "text/html": [
       "<ol class=list-inline>\n",
       "\t<li>31</li>\n",
       "\t<li>33</li>\n",
       "\t<li>35</li>\n",
       "\t<li>37</li>\n",
       "\t<li>39</li>\n",
       "\t<li>41</li>\n",
       "\t<li>43</li>\n",
       "\t<li>45</li>\n",
       "\t<li>47</li>\n",
       "\t<li>49</li>\n",
       "\t<li>51</li>\n",
       "\t<li>53</li>\n",
       "\t<li>55</li>\n",
       "\t<li>57</li>\n",
       "\t<li>59</li>\n",
       "\t<li>61</li>\n",
       "\t<li>63</li>\n",
       "\t<li>65</li>\n",
       "\t<li>67</li>\n",
       "\t<li>69</li>\n",
       "</ol>\n"
      ],
      "text/latex": [
       "\\begin{enumerate*}\n",
       "\\item 31\n",
       "\\item 33\n",
       "\\item 35\n",
       "\\item 37\n",
       "\\item 39\n",
       "\\item 41\n",
       "\\item 43\n",
       "\\item 45\n",
       "\\item 47\n",
       "\\item 49\n",
       "\\item 51\n",
       "\\item 53\n",
       "\\item 55\n",
       "\\item 57\n",
       "\\item 59\n",
       "\\item 61\n",
       "\\item 63\n",
       "\\item 65\n",
       "\\item 67\n",
       "\\item 69\n",
       "\\end{enumerate*}\n"
      ],
      "text/markdown": [
       "1. 31\n",
       "2. 33\n",
       "3. 35\n",
       "4. 37\n",
       "5. 39\n",
       "6. 41\n",
       "7. 43\n",
       "8. 45\n",
       "9. 47\n",
       "10. 49\n",
       "11. 51\n",
       "12. 53\n",
       "13. 55\n",
       "14. 57\n",
       "15. 59\n",
       "16. 61\n",
       "17. 63\n",
       "18. 65\n",
       "19. 67\n",
       "20. 69\n",
       "\n",
       "\n"
      ],
      "text/plain": [
       " [1] 31 33 35 37 39 41 43 45 47 49 51 53 55 57 59 61 63 65 67 69"
      ]
     },
     "metadata": {},
     "output_type": "display_data"
    }
   ],
   "source": [
    "x + y"
   ]
  },
  {
   "cell_type": "code",
   "execution_count": 28,
   "metadata": {
    "hidden": true
   },
   "outputs": [
    {
     "data": {
      "text/html": [
       "<ol class=list-inline>\n",
       "\t<li>1</li>\n",
       "\t<li>2</li>\n",
       "</ol>\n"
      ],
      "text/latex": [
       "\\begin{enumerate*}\n",
       "\\item 1\n",
       "\\item 2\n",
       "\\end{enumerate*}\n"
      ],
      "text/markdown": [
       "1. 1\n",
       "2. 2\n",
       "\n",
       "\n"
      ],
      "text/plain": [
       "[1] 1 2"
      ]
     },
     "metadata": {},
     "output_type": "display_data"
    }
   ],
   "source": [
    "z <- c(1,2)\n",
    "z"
   ]
  },
  {
   "cell_type": "code",
   "execution_count": 29,
   "metadata": {
    "hidden": true
   },
   "outputs": [
    {
     "data": {
      "text/html": [
       "<ol class=list-inline>\n",
       "\t<li>3</li>\n",
       "\t<li>6</li>\n",
       "\t<li>9</li>\n",
       "\t<li>12</li>\n",
       "\t<li>15</li>\n",
       "\t<li>18</li>\n",
       "\t<li>21</li>\n",
       "\t<li>24</li>\n",
       "\t<li>27</li>\n",
       "\t<li>30</li>\n",
       "\t<li>33</li>\n",
       "\t<li>36</li>\n",
       "\t<li>39</li>\n",
       "\t<li>42</li>\n",
       "\t<li>45</li>\n",
       "\t<li>48</li>\n",
       "\t<li>51</li>\n",
       "\t<li>54</li>\n",
       "\t<li>57</li>\n",
       "\t<li>60</li>\n",
       "</ol>\n"
      ],
      "text/latex": [
       "\\begin{enumerate*}\n",
       "\\item 3\n",
       "\\item 6\n",
       "\\item 9\n",
       "\\item 12\n",
       "\\item 15\n",
       "\\item 18\n",
       "\\item 21\n",
       "\\item 24\n",
       "\\item 27\n",
       "\\item 30\n",
       "\\item 33\n",
       "\\item 36\n",
       "\\item 39\n",
       "\\item 42\n",
       "\\item 45\n",
       "\\item 48\n",
       "\\item 51\n",
       "\\item 54\n",
       "\\item 57\n",
       "\\item 60\n",
       "\\end{enumerate*}\n"
      ],
      "text/markdown": [
       "1. 3\n",
       "2. 6\n",
       "3. 9\n",
       "4. 12\n",
       "5. 15\n",
       "6. 18\n",
       "7. 21\n",
       "8. 24\n",
       "9. 27\n",
       "10. 30\n",
       "11. 33\n",
       "12. 36\n",
       "13. 39\n",
       "14. 42\n",
       "15. 45\n",
       "16. 48\n",
       "17. 51\n",
       "18. 54\n",
       "19. 57\n",
       "20. 60\n",
       "\n",
       "\n"
      ],
      "text/plain": [
       " [1]  3  6  9 12 15 18 21 24 27 30 33 36 39 42 45 48 51 54 57 60"
      ]
     },
     "metadata": {},
     "output_type": "display_data"
    }
   ],
   "source": [
    "x * 3"
   ]
  },
  {
   "cell_type": "code",
   "execution_count": 30,
   "metadata": {
    "hidden": true
   },
   "outputs": [
    {
     "data": {
      "text/html": [
       "<ol class=list-inline>\n",
       "\t<li>'Hola Laura'</li>\n",
       "\t<li>'Hola Daniel'</li>\n",
       "\t<li>'Hola Juan'</li>\n",
       "</ol>\n"
      ],
      "text/latex": [
       "\\begin{enumerate*}\n",
       "\\item 'Hola Laura'\n",
       "\\item 'Hola Daniel'\n",
       "\\item 'Hola Juan'\n",
       "\\end{enumerate*}\n"
      ],
      "text/markdown": [
       "1. 'Hola Laura'\n",
       "2. 'Hola Daniel'\n",
       "3. 'Hola Juan'\n",
       "\n",
       "\n"
      ],
      "text/plain": [
       "[1] \"Hola Laura\"  \"Hola Daniel\" \"Hola Juan\"  "
      ]
     },
     "metadata": {},
     "output_type": "display_data"
    }
   ],
   "source": [
    "nombre <- c(\"Laura\", \"Daniel\", \"Juan\")\n",
    "Hola <-  \"Hola\"\n",
    "paste(Hola, nombre)"
   ]
  },
  {
   "cell_type": "code",
   "execution_count": 31,
   "metadata": {
    "hidden": true,
    "scrolled": true
   },
   "outputs": [
    {
     "data": {
      "text/html": [
       "<ol class=list-inline>\n",
       "\t<li>'1 aaa'</li>\n",
       "\t<li>'2 aaa'</li>\n",
       "\t<li>'3 aaa'</li>\n",
       "\t<li>'4 aaa'</li>\n",
       "\t<li>'5 aaa'</li>\n",
       "\t<li>'6 aaa'</li>\n",
       "\t<li>'7 aaa'</li>\n",
       "\t<li>'8 aaa'</li>\n",
       "\t<li>'9 aaa'</li>\n",
       "\t<li>'10 aaa'</li>\n",
       "\t<li>'11 aaa'</li>\n",
       "\t<li>'12 aaa'</li>\n",
       "\t<li>'13 aaa'</li>\n",
       "\t<li>'14 aaa'</li>\n",
       "\t<li>'15 aaa'</li>\n",
       "\t<li>'16 aaa'</li>\n",
       "\t<li>'17 aaa'</li>\n",
       "\t<li>'18 aaa'</li>\n",
       "\t<li>'19 aaa'</li>\n",
       "\t<li>'20 aaa'</li>\n",
       "</ol>\n"
      ],
      "text/latex": [
       "\\begin{enumerate*}\n",
       "\\item '1 aaa'\n",
       "\\item '2 aaa'\n",
       "\\item '3 aaa'\n",
       "\\item '4 aaa'\n",
       "\\item '5 aaa'\n",
       "\\item '6 aaa'\n",
       "\\item '7 aaa'\n",
       "\\item '8 aaa'\n",
       "\\item '9 aaa'\n",
       "\\item '10 aaa'\n",
       "\\item '11 aaa'\n",
       "\\item '12 aaa'\n",
       "\\item '13 aaa'\n",
       "\\item '14 aaa'\n",
       "\\item '15 aaa'\n",
       "\\item '16 aaa'\n",
       "\\item '17 aaa'\n",
       "\\item '18 aaa'\n",
       "\\item '19 aaa'\n",
       "\\item '20 aaa'\n",
       "\\end{enumerate*}\n"
      ],
      "text/markdown": [
       "1. '1 aaa'\n",
       "2. '2 aaa'\n",
       "3. '3 aaa'\n",
       "4. '4 aaa'\n",
       "5. '5 aaa'\n",
       "6. '6 aaa'\n",
       "7. '7 aaa'\n",
       "8. '8 aaa'\n",
       "9. '9 aaa'\n",
       "10. '10 aaa'\n",
       "11. '11 aaa'\n",
       "12. '12 aaa'\n",
       "13. '13 aaa'\n",
       "14. '14 aaa'\n",
       "15. '15 aaa'\n",
       "16. '16 aaa'\n",
       "17. '17 aaa'\n",
       "18. '18 aaa'\n",
       "19. '19 aaa'\n",
       "20. '20 aaa'\n",
       "\n",
       "\n"
      ],
      "text/plain": [
       " [1] \"1 aaa\"  \"2 aaa\"  \"3 aaa\"  \"4 aaa\"  \"5 aaa\"  \"6 aaa\"  \"7 aaa\"  \"8 aaa\" \n",
       " [9] \"9 aaa\"  \"10 aaa\" \"11 aaa\" \"12 aaa\" \"13 aaa\" \"14 aaa\" \"15 aaa\" \"16 aaa\"\n",
       "[17] \"17 aaa\" \"18 aaa\" \"19 aaa\" \"20 aaa\""
      ]
     },
     "metadata": {},
     "output_type": "display_data"
    }
   ],
   "source": [
    "paste(1:20,\"aaa\")"
   ]
  },
  {
   "cell_type": "code",
   "execution_count": 32,
   "metadata": {
    "hidden": true
   },
   "outputs": [
    {
     "data": {
      "text/html": [
       "<ol class=list-inline>\n",
       "\t<li>30</li>\n",
       "\t<li>62</li>\n",
       "\t<li>96</li>\n",
       "\t<li>132</li>\n",
       "\t<li>170</li>\n",
       "\t<li>210</li>\n",
       "\t<li>252</li>\n",
       "\t<li>296</li>\n",
       "\t<li>342</li>\n",
       "\t<li>390</li>\n",
       "\t<li>440</li>\n",
       "\t<li>492</li>\n",
       "\t<li>546</li>\n",
       "\t<li>602</li>\n",
       "\t<li>660</li>\n",
       "\t<li>720</li>\n",
       "\t<li>782</li>\n",
       "\t<li>846</li>\n",
       "\t<li>912</li>\n",
       "\t<li>980</li>\n",
       "</ol>\n"
      ],
      "text/latex": [
       "\\begin{enumerate*}\n",
       "\\item 30\n",
       "\\item 62\n",
       "\\item 96\n",
       "\\item 132\n",
       "\\item 170\n",
       "\\item 210\n",
       "\\item 252\n",
       "\\item 296\n",
       "\\item 342\n",
       "\\item 390\n",
       "\\item 440\n",
       "\\item 492\n",
       "\\item 546\n",
       "\\item 602\n",
       "\\item 660\n",
       "\\item 720\n",
       "\\item 782\n",
       "\\item 846\n",
       "\\item 912\n",
       "\\item 980\n",
       "\\end{enumerate*}\n"
      ],
      "text/markdown": [
       "1. 30\n",
       "2. 62\n",
       "3. 96\n",
       "4. 132\n",
       "5. 170\n",
       "6. 210\n",
       "7. 252\n",
       "8. 296\n",
       "9. 342\n",
       "10. 390\n",
       "11. 440\n",
       "12. 492\n",
       "13. 546\n",
       "14. 602\n",
       "15. 660\n",
       "16. 720\n",
       "17. 782\n",
       "18. 846\n",
       "19. 912\n",
       "20. 980\n",
       "\n",
       "\n"
      ],
      "text/plain": [
       " [1]  30  62  96 132 170 210 252 296 342 390 440 492 546 602 660 720 782 846 912\n",
       "[20] 980"
      ]
     },
     "metadata": {},
     "output_type": "display_data"
    }
   ],
   "source": [
    "x * y\n"
   ]
  },
  {
   "cell_type": "code",
   "execution_count": 33,
   "metadata": {
    "hidden": true
   },
   "outputs": [
    {
     "data": {
      "text/html": [
       "<ol class=list-inline>\n",
       "\t<li>0.0333333333333333</li>\n",
       "\t<li>0.0645161290322581</li>\n",
       "\t<li>0.09375</li>\n",
       "\t<li>0.121212121212121</li>\n",
       "\t<li>0.147058823529412</li>\n",
       "\t<li>0.171428571428571</li>\n",
       "\t<li>0.194444444444444</li>\n",
       "\t<li>0.216216216216216</li>\n",
       "\t<li>0.236842105263158</li>\n",
       "\t<li>0.256410256410256</li>\n",
       "\t<li>0.275</li>\n",
       "\t<li>0.292682926829268</li>\n",
       "\t<li>0.30952380952381</li>\n",
       "\t<li>0.325581395348837</li>\n",
       "\t<li>0.340909090909091</li>\n",
       "\t<li>0.355555555555556</li>\n",
       "\t<li>0.369565217391304</li>\n",
       "\t<li>0.382978723404255</li>\n",
       "\t<li>0.395833333333333</li>\n",
       "\t<li>0.408163265306122</li>\n",
       "</ol>\n"
      ],
      "text/latex": [
       "\\begin{enumerate*}\n",
       "\\item 0.0333333333333333\n",
       "\\item 0.0645161290322581\n",
       "\\item 0.09375\n",
       "\\item 0.121212121212121\n",
       "\\item 0.147058823529412\n",
       "\\item 0.171428571428571\n",
       "\\item 0.194444444444444\n",
       "\\item 0.216216216216216\n",
       "\\item 0.236842105263158\n",
       "\\item 0.256410256410256\n",
       "\\item 0.275\n",
       "\\item 0.292682926829268\n",
       "\\item 0.30952380952381\n",
       "\\item 0.325581395348837\n",
       "\\item 0.340909090909091\n",
       "\\item 0.355555555555556\n",
       "\\item 0.369565217391304\n",
       "\\item 0.382978723404255\n",
       "\\item 0.395833333333333\n",
       "\\item 0.408163265306122\n",
       "\\end{enumerate*}\n"
      ],
      "text/markdown": [
       "1. 0.0333333333333333\n",
       "2. 0.0645161290322581\n",
       "3. 0.09375\n",
       "4. 0.121212121212121\n",
       "5. 0.147058823529412\n",
       "6. 0.171428571428571\n",
       "7. 0.194444444444444\n",
       "8. 0.216216216216216\n",
       "9. 0.236842105263158\n",
       "10. 0.256410256410256\n",
       "11. 0.275\n",
       "12. 0.292682926829268\n",
       "13. 0.30952380952381\n",
       "14. 0.325581395348837\n",
       "15. 0.340909090909091\n",
       "16. 0.355555555555556\n",
       "17. 0.369565217391304\n",
       "18. 0.382978723404255\n",
       "19. 0.395833333333333\n",
       "20. 0.408163265306122\n",
       "\n",
       "\n"
      ],
      "text/plain": [
       " [1] 0.03333333 0.06451613 0.09375000 0.12121212 0.14705882 0.17142857\n",
       " [7] 0.19444444 0.21621622 0.23684211 0.25641026 0.27500000 0.29268293\n",
       "[13] 0.30952381 0.32558140 0.34090909 0.35555556 0.36956522 0.38297872\n",
       "[19] 0.39583333 0.40816327"
      ]
     },
     "metadata": {},
     "output_type": "display_data"
    }
   ],
   "source": [
    "x/y"
   ]
  },
  {
   "cell_type": "code",
   "execution_count": 22,
   "metadata": {
    "hidden": true
   },
   "outputs": [
    {
     "data": {
      "text/html": [
       "<ol class=list-inline>\n",
       "\t<li>5</li>\n",
       "\t<li>6</li>\n",
       "\t<li>7</li>\n",
       "\t<li>8</li>\n",
       "\t<li>9</li>\n",
       "\t<li>10</li>\n",
       "\t<li>11</li>\n",
       "\t<li>12</li>\n",
       "\t<li>13</li>\n",
       "\t<li>14</li>\n",
       "\t<li>15</li>\n",
       "\t<li>16</li>\n",
       "\t<li>17</li>\n",
       "\t<li>18</li>\n",
       "\t<li>19</li>\n",
       "\t<li>20</li>\n",
       "\t<li>21</li>\n",
       "\t<li>22</li>\n",
       "\t<li>23</li>\n",
       "\t<li>24</li>\n",
       "</ol>\n"
      ],
      "text/latex": [
       "\\begin{enumerate*}\n",
       "\\item 5\n",
       "\\item 6\n",
       "\\item 7\n",
       "\\item 8\n",
       "\\item 9\n",
       "\\item 10\n",
       "\\item 11\n",
       "\\item 12\n",
       "\\item 13\n",
       "\\item 14\n",
       "\\item 15\n",
       "\\item 16\n",
       "\\item 17\n",
       "\\item 18\n",
       "\\item 19\n",
       "\\item 20\n",
       "\\item 21\n",
       "\\item 22\n",
       "\\item 23\n",
       "\\item 24\n",
       "\\end{enumerate*}\n"
      ],
      "text/markdown": [
       "1. 5\n",
       "2. 6\n",
       "3. 7\n",
       "4. 8\n",
       "5. 9\n",
       "6. 10\n",
       "7. 11\n",
       "8. 12\n",
       "9. 13\n",
       "10. 14\n",
       "11. 15\n",
       "12. 16\n",
       "13. 17\n",
       "14. 18\n",
       "15. 19\n",
       "16. 20\n",
       "17. 21\n",
       "18. 22\n",
       "19. 23\n",
       "20. 24\n",
       "\n",
       "\n"
      ],
      "text/plain": [
       " [1]  5  6  7  8  9 10 11 12 13 14 15 16 17 18 19 20 21 22 23 24"
      ]
     },
     "metadata": {},
     "output_type": "display_data"
    }
   ],
   "source": [
    "x + 4"
   ]
  },
  {
   "cell_type": "markdown",
   "metadata": {
    "hidden": true
   },
   "source": [
    "## Ejercicio"
   ]
  },
  {
   "cell_type": "markdown",
   "metadata": {
    "hidden": true
   },
   "source": [
    "<div class=\"alert alert-success\">\n",
    "Crear una función que reciba como parámetros un vector de nombres de personas y un vector de edades. La idea es que la función construya un data frame con los nombres y las edades, luego tome cada edad y la eleve al cuadrado y finalmente imprima por consola el data frame con los nombres y las edades elevadas al cuadrado además que también se imprima un vector con saludo para cada nombre </div>\n"
   ]
  },
  {
   "cell_type": "code",
   "execution_count": 40,
   "metadata": {
    "code_folding": [
     0
    ],
    "hidden": true
   },
   "outputs": [],
   "source": [
    "Edad <- function(Nombres, Edades){\n",
    "    Base <- data.frame(Nombres, Edades)\n",
    "    Base$Edades <- Base$Edades ^ 2\n",
    "    print(Base)\n",
    "    print(paste(\"Hola\", Base$Nombres))\n",
    "}"
   ]
  },
  {
   "cell_type": "code",
   "execution_count": 41,
   "metadata": {
    "hidden": true,
    "scrolled": true
   },
   "outputs": [
    {
     "name": "stdout",
     "output_type": "stream",
     "text": [
      "  Nombres Edades\n",
      "1   Laura    900\n",
      "2  Daniel   2500\n",
      "3    Juan   1600\n",
      "[1] \"Hola Laura\"  \"Hola Daniel\" \"Hola Juan\"  \n"
     ]
    }
   ],
   "source": [
    "edad <- c(30, 50, 40)\n",
    "nombre <- c(\"Laura\", \"Daniel\", \"Juan\")\n",
    "Edad(nombre, edad)"
   ]
  },
  {
   "cell_type": "markdown",
   "metadata": {
    "hidden": true
   },
   "source": [
    "<div class = \"alert alert-danger\">\n",
    "Como se haria esta función usando ciclos\n",
    "</div>"
   ]
  },
  {
   "cell_type": "code",
   "execution_count": 22,
   "metadata": {
    "code_folding": [
     0
    ],
    "hidden": true
   },
   "outputs": [],
   "source": [
    "Edad <- function(Nombres, Edades){\n",
    "    Base <- data.frame(Nombres, Edades)\n",
    "    for (i in 1:dim(Base)[1]){\n",
    "    Base$Edades[i] <- (Base$Edades[i])^2\n",
    "    }\n",
    "    print(Base)\n",
    "    x <- vector()\n",
    "    for (i in 1:dim(Base)[1]){\n",
    "    x[i] <- (paste(\"Hola\", Base$Nombres[i]))\n",
    "    }\n",
    "    print(x)\n",
    "}"
   ]
  },
  {
   "cell_type": "code",
   "execution_count": 23,
   "metadata": {
    "hidden": true
   },
   "outputs": [
    {
     "name": "stdout",
     "output_type": "stream",
     "text": [
      "  Nombres Edades\n",
      "1   Laura    900\n",
      "2  Daniel   2500\n",
      "3    Juan   1600\n",
      "[1] \"Hola Laura\"  \"Hola Daniel\" \"Hola Juan\"  \n"
     ]
    }
   ],
   "source": [
    "edad <- c(30, 50, 40)\n",
    "nombre <- c(\"Laura\", \"Daniel\", \"Juan\")\n",
    "Edad(nombre, edad)"
   ]
  },
  {
   "cell_type": "markdown",
   "metadata": {
    "heading_collapsed": true
   },
   "source": [
    "# apply()"
   ]
  },
  {
   "cell_type": "markdown",
   "metadata": {
    "hidden": true
   },
   "source": [
    "La siguiente matriz presenta los puntajes de 4 personas en algunas competencias de ciclismo."
   ]
  },
  {
   "cell_type": "code",
   "execution_count": 47,
   "metadata": {
    "hidden": true
   },
   "outputs": [
    {
     "data": {
      "text/html": [
       "<table>\n",
       "<thead><tr><th></th><th scope=col>Persona1</th><th scope=col>Persona2</th><th scope=col>Persona3</th><th scope=col>Persona4</th></tr></thead>\n",
       "<tbody>\n",
       "\t<tr><th scope=row>Competencia1</th><td>9</td><td>6</td><td>9</td><td>8</td></tr>\n",
       "\t<tr><th scope=row>Competencia2</th><td>0</td><td>1</td><td>6</td><td>0</td></tr>\n",
       "\t<tr><th scope=row>Competencia3</th><td>2</td><td>3</td><td>6</td><td>9</td></tr>\n",
       "\t<tr><th scope=row>Competencia4</th><td>2</td><td>3</td><td>2</td><td>6</td></tr>\n",
       "\t<tr><th scope=row>Competencia5</th><td>7</td><td>6</td><td>2</td><td>2</td></tr>\n",
       "\t<tr><th scope=row>Competencia6</th><td>0</td><td>6</td><td>6</td><td>4</td></tr>\n",
       "</tbody>\n",
       "</table>\n"
      ],
      "text/latex": [
       "\\begin{tabular}{r|llll}\n",
       "  & Persona1 & Persona2 & Persona3 & Persona4\\\\\n",
       "\\hline\n",
       "\tCompetencia1 & 9 & 6 & 9 & 8\\\\\n",
       "\tCompetencia2 & 0 & 1 & 6 & 0\\\\\n",
       "\tCompetencia3 & 2 & 3 & 6 & 9\\\\\n",
       "\tCompetencia4 & 2 & 3 & 2 & 6\\\\\n",
       "\tCompetencia5 & 7 & 6 & 2 & 2\\\\\n",
       "\tCompetencia6 & 0 & 6 & 6 & 4\\\\\n",
       "\\end{tabular}\n"
      ],
      "text/markdown": [
       "\n",
       "| <!--/--> | Persona1 | Persona2 | Persona3 | Persona4 |\n",
       "|---|---|---|---|---|\n",
       "| Competencia1 | 9 | 6 | 9 | 8 |\n",
       "| Competencia2 | 0 | 1 | 6 | 0 |\n",
       "| Competencia3 | 2 | 3 | 6 | 9 |\n",
       "| Competencia4 | 2 | 3 | 2 | 6 |\n",
       "| Competencia5 | 7 | 6 | 2 | 2 |\n",
       "| Competencia6 | 0 | 6 | 6 | 4 |\n",
       "\n"
      ],
      "text/plain": [
       "             Persona1 Persona2 Persona3 Persona4\n",
       "Competencia1 9        6        9        8       \n",
       "Competencia2 0        1        6        0       \n",
       "Competencia3 2        3        6        9       \n",
       "Competencia4 2        3        2        6       \n",
       "Competencia5 7        6        2        2       \n",
       "Competencia6 0        6        6        4       "
      ]
     },
     "metadata": {},
     "output_type": "display_data"
    }
   ],
   "source": [
    "datos <- sample(0:9, size = 24, replace = T)\n",
    "matriz <- matrix(datos, nrow = 6,byrow = T)\n",
    "colnames(matriz) <- c('Persona1', 'Persona2', 'Persona3', 'Persona4')\n",
    "row.names(matriz) <- c('Competencia1', 'Competencia2', 'Competencia3', 'Competencia4', 'Competencia5', 'Competencia6')\n",
    "matriz"
   ]
  },
  {
   "cell_type": "markdown",
   "metadata": {
    "hidden": true
   },
   "source": [
    "Cuál es el puntaje promedio para cada persona"
   ]
  },
  {
   "cell_type": "code",
   "execution_count": 48,
   "metadata": {
    "hidden": true
   },
   "outputs": [
    {
     "data": {
      "text/html": [
       "<dl class=dl-horizontal>\n",
       "\t<dt>Persona1</dt>\n",
       "\t\t<dd>3.33333333333333</dd>\n",
       "\t<dt>Persona2</dt>\n",
       "\t\t<dd>4.16666666666667</dd>\n",
       "\t<dt>Persona3</dt>\n",
       "\t\t<dd>5.16666666666667</dd>\n",
       "\t<dt>Persona4</dt>\n",
       "\t\t<dd>4.83333333333333</dd>\n",
       "</dl>\n"
      ],
      "text/latex": [
       "\\begin{description*}\n",
       "\\item[Persona1] 3.33333333333333\n",
       "\\item[Persona2] 4.16666666666667\n",
       "\\item[Persona3] 5.16666666666667\n",
       "\\item[Persona4] 4.83333333333333\n",
       "\\end{description*}\n"
      ],
      "text/markdown": [
       "Persona1\n",
       ":   3.33333333333333Persona2\n",
       ":   4.16666666666667Persona3\n",
       ":   5.16666666666667Persona4\n",
       ":   4.83333333333333\n",
       "\n"
      ],
      "text/plain": [
       "Persona1 Persona2 Persona3 Persona4 \n",
       "3.333333 4.166667 5.166667 4.833333 "
      ]
     },
     "metadata": {},
     "output_type": "display_data"
    }
   ],
   "source": [
    "apply(X = matriz, MARGIN = 2, FUN = mean)"
   ]
  },
  {
   "cell_type": "markdown",
   "metadata": {
    "hidden": true
   },
   "source": [
    "Cuál es el puntaje máximo obtenido en cada competencia"
   ]
  },
  {
   "cell_type": "code",
   "execution_count": 50,
   "metadata": {
    "hidden": true
   },
   "outputs": [
    {
     "data": {
      "text/html": [
       "<dl class=dl-horizontal>\n",
       "\t<dt>Competencia1</dt>\n",
       "\t\t<dd>9</dd>\n",
       "\t<dt>Competencia2</dt>\n",
       "\t\t<dd>6</dd>\n",
       "\t<dt>Competencia3</dt>\n",
       "\t\t<dd>9</dd>\n",
       "\t<dt>Competencia4</dt>\n",
       "\t\t<dd>6</dd>\n",
       "\t<dt>Competencia5</dt>\n",
       "\t\t<dd>7</dd>\n",
       "\t<dt>Competencia6</dt>\n",
       "\t\t<dd>6</dd>\n",
       "</dl>\n"
      ],
      "text/latex": [
       "\\begin{description*}\n",
       "\\item[Competencia1] 9\n",
       "\\item[Competencia2] 6\n",
       "\\item[Competencia3] 9\n",
       "\\item[Competencia4] 6\n",
       "\\item[Competencia5] 7\n",
       "\\item[Competencia6] 6\n",
       "\\end{description*}\n"
      ],
      "text/markdown": [
       "Competencia1\n",
       ":   9Competencia2\n",
       ":   6Competencia3\n",
       ":   9Competencia4\n",
       ":   6Competencia5\n",
       ":   7Competencia6\n",
       ":   6\n",
       "\n"
      ],
      "text/plain": [
       "Competencia1 Competencia2 Competencia3 Competencia4 Competencia5 Competencia6 \n",
       "           9            6            9            6            7            6 "
      ]
     },
     "metadata": {},
     "output_type": "display_data"
    }
   ],
   "source": [
    "apply(matriz, 1, max)"
   ]
  },
  {
   "cell_type": "markdown",
   "metadata": {
    "hidden": true
   },
   "source": [
    "El cuadrado de cada elemento de la matriz"
   ]
  },
  {
   "cell_type": "code",
   "execution_count": 51,
   "metadata": {
    "hidden": true
   },
   "outputs": [
    {
     "data": {
      "text/html": [
       "<table>\n",
       "<thead><tr><th></th><th scope=col>Persona1</th><th scope=col>Persona2</th><th scope=col>Persona3</th><th scope=col>Persona4</th></tr></thead>\n",
       "<tbody>\n",
       "\t<tr><th scope=row>Competencia1</th><td>81</td><td>36</td><td>81</td><td>64</td></tr>\n",
       "\t<tr><th scope=row>Competencia2</th><td> 0</td><td> 1</td><td>36</td><td> 0</td></tr>\n",
       "\t<tr><th scope=row>Competencia3</th><td> 4</td><td> 9</td><td>36</td><td>81</td></tr>\n",
       "\t<tr><th scope=row>Competencia4</th><td> 4</td><td> 9</td><td> 4</td><td>36</td></tr>\n",
       "\t<tr><th scope=row>Competencia5</th><td>49</td><td>36</td><td> 4</td><td> 4</td></tr>\n",
       "\t<tr><th scope=row>Competencia6</th><td> 0</td><td>36</td><td>36</td><td>16</td></tr>\n",
       "</tbody>\n",
       "</table>\n"
      ],
      "text/latex": [
       "\\begin{tabular}{r|llll}\n",
       "  & Persona1 & Persona2 & Persona3 & Persona4\\\\\n",
       "\\hline\n",
       "\tCompetencia1 & 81 & 36 & 81 & 64\\\\\n",
       "\tCompetencia2 &  0 &  1 & 36 &  0\\\\\n",
       "\tCompetencia3 &  4 &  9 & 36 & 81\\\\\n",
       "\tCompetencia4 &  4 &  9 &  4 & 36\\\\\n",
       "\tCompetencia5 & 49 & 36 &  4 &  4\\\\\n",
       "\tCompetencia6 &  0 & 36 & 36 & 16\\\\\n",
       "\\end{tabular}\n"
      ],
      "text/markdown": [
       "\n",
       "| <!--/--> | Persona1 | Persona2 | Persona3 | Persona4 |\n",
       "|---|---|---|---|---|\n",
       "| Competencia1 | 81 | 36 | 81 | 64 |\n",
       "| Competencia2 |  0 |  1 | 36 |  0 |\n",
       "| Competencia3 |  4 |  9 | 36 | 81 |\n",
       "| Competencia4 |  4 |  9 |  4 | 36 |\n",
       "| Competencia5 | 49 | 36 |  4 |  4 |\n",
       "| Competencia6 |  0 | 36 | 36 | 16 |\n",
       "\n"
      ],
      "text/plain": [
       "             Persona1 Persona2 Persona3 Persona4\n",
       "Competencia1 81       36       81       64      \n",
       "Competencia2  0        1       36        0      \n",
       "Competencia3  4        9       36       81      \n",
       "Competencia4  4        9        4       36      \n",
       "Competencia5 49       36        4        4      \n",
       "Competencia6  0       36       36       16      "
      ]
     },
     "metadata": {},
     "output_type": "display_data"
    }
   ],
   "source": [
    "apply(matriz,c(1,2), function(x) x ^ 2 )"
   ]
  },
  {
   "cell_type": "markdown",
   "metadata": {
    "hidden": true
   },
   "source": [
    "Que aparezca en la matriz si paso o no paso a la siguiente fase. Una persona pasa si tiene un puntaje superior a 5. "
   ]
  },
  {
   "cell_type": "code",
   "execution_count": 53,
   "metadata": {
    "hidden": true
   },
   "outputs": [
    {
     "data": {
      "text/html": [
       "<table>\n",
       "<thead><tr><th></th><th scope=col>Persona1</th><th scope=col>Persona2</th><th scope=col>Persona3</th><th scope=col>Persona4</th></tr></thead>\n",
       "<tbody>\n",
       "\t<tr><th scope=row>Competencia1</th><td>Paso   </td><td>Paso   </td><td>Paso   </td><td>Paso   </td></tr>\n",
       "\t<tr><th scope=row>Competencia2</th><td>No paso</td><td>No paso</td><td>Paso   </td><td>No paso</td></tr>\n",
       "\t<tr><th scope=row>Competencia3</th><td>No paso</td><td>No paso</td><td>Paso   </td><td>Paso   </td></tr>\n",
       "\t<tr><th scope=row>Competencia4</th><td>No paso</td><td>No paso</td><td>No paso</td><td>Paso   </td></tr>\n",
       "\t<tr><th scope=row>Competencia5</th><td>Paso   </td><td>Paso   </td><td>No paso</td><td>No paso</td></tr>\n",
       "\t<tr><th scope=row>Competencia6</th><td>No paso</td><td>Paso   </td><td>Paso   </td><td>No paso</td></tr>\n",
       "</tbody>\n",
       "</table>\n"
      ],
      "text/latex": [
       "\\begin{tabular}{r|llll}\n",
       "  & Persona1 & Persona2 & Persona3 & Persona4\\\\\n",
       "\\hline\n",
       "\tCompetencia1 & Paso    & Paso    & Paso    & Paso   \\\\\n",
       "\tCompetencia2 & No paso & No paso & Paso    & No paso\\\\\n",
       "\tCompetencia3 & No paso & No paso & Paso    & Paso   \\\\\n",
       "\tCompetencia4 & No paso & No paso & No paso & Paso   \\\\\n",
       "\tCompetencia5 & Paso    & Paso    & No paso & No paso\\\\\n",
       "\tCompetencia6 & No paso & Paso    & Paso    & No paso\\\\\n",
       "\\end{tabular}\n"
      ],
      "text/markdown": [
       "\n",
       "| <!--/--> | Persona1 | Persona2 | Persona3 | Persona4 |\n",
       "|---|---|---|---|---|\n",
       "| Competencia1 | Paso    | Paso    | Paso    | Paso    |\n",
       "| Competencia2 | No paso | No paso | Paso    | No paso |\n",
       "| Competencia3 | No paso | No paso | Paso    | Paso    |\n",
       "| Competencia4 | No paso | No paso | No paso | Paso    |\n",
       "| Competencia5 | Paso    | Paso    | No paso | No paso |\n",
       "| Competencia6 | No paso | Paso    | Paso    | No paso |\n",
       "\n"
      ],
      "text/plain": [
       "             Persona1 Persona2 Persona3 Persona4\n",
       "Competencia1 Paso     Paso     Paso     Paso    \n",
       "Competencia2 No paso  No paso  Paso     No paso \n",
       "Competencia3 No paso  No paso  Paso     Paso    \n",
       "Competencia4 No paso  No paso  No paso  Paso    \n",
       "Competencia5 Paso     Paso     No paso  No paso \n",
       "Competencia6 No paso  Paso     Paso     No paso "
      ]
     },
     "metadata": {},
     "output_type": "display_data"
    }
   ],
   "source": [
    "apply(matriz, 2, function(x) ifelse(x>5,\"Paso\",\"No paso\" ))"
   ]
  },
  {
   "cell_type": "markdown",
   "metadata": {
    "hidden": true
   },
   "source": [
    "Se quiere reemplazar los puntajes de 1 por cero"
   ]
  },
  {
   "cell_type": "code",
   "execution_count": 57,
   "metadata": {
    "hidden": true,
    "scrolled": true
   },
   "outputs": [
    {
     "data": {
      "text/html": [
       "<table>\n",
       "<thead><tr><th></th><th scope=col>Persona1</th><th scope=col>Persona2</th><th scope=col>Persona3</th><th scope=col>Persona4</th></tr></thead>\n",
       "<tbody>\n",
       "\t<tr><th scope=row>Competencia1</th><td>9</td><td>6</td><td>9</td><td>8</td></tr>\n",
       "\t<tr><th scope=row>Competencia2</th><td>0</td><td>0</td><td>6</td><td>0</td></tr>\n",
       "\t<tr><th scope=row>Competencia3</th><td>2</td><td>3</td><td>6</td><td>9</td></tr>\n",
       "\t<tr><th scope=row>Competencia4</th><td>2</td><td>3</td><td>2</td><td>6</td></tr>\n",
       "\t<tr><th scope=row>Competencia5</th><td>7</td><td>6</td><td>2</td><td>2</td></tr>\n",
       "\t<tr><th scope=row>Competencia6</th><td>0</td><td>6</td><td>6</td><td>4</td></tr>\n",
       "</tbody>\n",
       "</table>\n"
      ],
      "text/latex": [
       "\\begin{tabular}{r|llll}\n",
       "  & Persona1 & Persona2 & Persona3 & Persona4\\\\\n",
       "\\hline\n",
       "\tCompetencia1 & 9 & 6 & 9 & 8\\\\\n",
       "\tCompetencia2 & 0 & 0 & 6 & 0\\\\\n",
       "\tCompetencia3 & 2 & 3 & 6 & 9\\\\\n",
       "\tCompetencia4 & 2 & 3 & 2 & 6\\\\\n",
       "\tCompetencia5 & 7 & 6 & 2 & 2\\\\\n",
       "\tCompetencia6 & 0 & 6 & 6 & 4\\\\\n",
       "\\end{tabular}\n"
      ],
      "text/markdown": [
       "\n",
       "| <!--/--> | Persona1 | Persona2 | Persona3 | Persona4 |\n",
       "|---|---|---|---|---|\n",
       "| Competencia1 | 9 | 6 | 9 | 8 |\n",
       "| Competencia2 | 0 | 0 | 6 | 0 |\n",
       "| Competencia3 | 2 | 3 | 6 | 9 |\n",
       "| Competencia4 | 2 | 3 | 2 | 6 |\n",
       "| Competencia5 | 7 | 6 | 2 | 2 |\n",
       "| Competencia6 | 0 | 6 | 6 | 4 |\n",
       "\n"
      ],
      "text/plain": [
       "             Persona1 Persona2 Persona3 Persona4\n",
       "Competencia1 9        6        9        8       \n",
       "Competencia2 0        0        6        0       \n",
       "Competencia3 2        3        6        9       \n",
       "Competencia4 2        3        2        6       \n",
       "Competencia5 7        6        2        2       \n",
       "Competencia6 0        6        6        4       "
      ]
     },
     "metadata": {},
     "output_type": "display_data"
    }
   ],
   "source": [
    "apply(matriz, c(1,2), function(x) ifelse(x == 1, 0, x) )"
   ]
  },
  {
   "cell_type": "code",
   "execution_count": 61,
   "metadata": {
    "hidden": true
   },
   "outputs": [
    {
     "data": {
      "image/png": "[encoded data removed]",
      "text/plain": [
       "Plot with title \"Prueba\""
      ]
     },
     "metadata": {},
     "output_type": "display_data"
    },
    {
     "data": {
      "image/png": "[encoded data removed]",
      "text/plain": [
       "Plot with title \"Prueba\""
      ]
     },
     "metadata": {},
     "output_type": "display_data"
    },
    {
     "data": {
      "image/png": "[encoded data removed]",
      "text/plain": [
       "Plot with title \"Prueba\""
      ]
     },
     "metadata": {},
     "output_type": "display_data"
    },
    {
     "data": {
      "image/png": "[encoded data removed]",
      "text/plain": [
       "Plot with title \"Prueba\""
      ]
     },
     "metadata": {},
     "output_type": "display_data"
    },
    {
     "data": {
      "image/png": "[encoded data removed]",
      "text/plain": [
       "Plot with title \"Prueba\""
      ]
     },
     "metadata": {},
     "output_type": "display_data"
    },
    {
     "data": {
      "text/plain": [
       "NULL"
      ]
     },
     "metadata": {},
     "output_type": "display_data"
    },
    {
     "data": {
      "image/png": "[encoded data removed]",
      "text/plain": [
       "Plot with title \"Prueba\""
      ]
     },
     "metadata": {},
     "output_type": "display_data"
    }
   ],
   "source": [
    "apply(matriz, 1, plot, col = \"red\", main = \"Prueba\")"
   ]
  },
  {
   "cell_type": "markdown",
   "metadata": {
    "hidden": true
   },
   "source": [
    "## Ejercicio"
   ]
  },
  {
   "cell_type": "markdown",
   "metadata": {
    "hidden": true
   },
   "source": [
    "<div class=\"alert alert-success\">\n",
    "Crear una función que tenga como parámetro de entrada una matriz. La idea es que la función  retorne un data frame donde las columnas representan las filas de la matriz inicial y las filas son respectivamente el promedio, la varianza y el valor máximo para cada fila de la matriz.\n",
    "    </div>"
   ]
  },
  {
   "cell_type": "code",
   "execution_count": 89,
   "metadata": {
    "code_folding": [
     0
    ],
    "hidden": true
   },
   "outputs": [],
   "source": [
    "aplicar <- function(matriz){\n",
    "x <- apply(matriz, 1, function(x) c(mean(x), var(x), max(x)) )\n",
    "row.names(x) <- c(\"Promedio\", \"Varianza\", \"Maximo\")\n",
    "x\n",
    "}\n",
    "    \n"
   ]
  },
  {
   "cell_type": "code",
   "execution_count": 90,
   "metadata": {
    "hidden": true
   },
   "outputs": [
    {
     "data": {
      "text/html": [
       "<table>\n",
       "<thead><tr><th></th><th scope=col>Competencia1</th><th scope=col>Competencia2</th><th scope=col>Competencia3</th><th scope=col>Competencia4</th><th scope=col>Competencia5</th><th scope=col>Competencia6</th></tr></thead>\n",
       "<tbody>\n",
       "\t<tr><th scope=row>Promedio</th><td>8       </td><td>1.75    </td><td> 5      </td><td>3.250000</td><td>4.250000</td><td>4       </td></tr>\n",
       "\t<tr><th scope=row>Varianza</th><td>2       </td><td>8.25    </td><td>10      </td><td>3.583333</td><td>6.916667</td><td>8       </td></tr>\n",
       "\t<tr><th scope=row>Maximo</th><td>9       </td><td>6.00    </td><td> 9      </td><td>6.000000</td><td>7.000000</td><td>6       </td></tr>\n",
       "</tbody>\n",
       "</table>\n"
      ],
      "text/latex": [
       "\\begin{tabular}{r|llllll}\n",
       "  & Competencia1 & Competencia2 & Competencia3 & Competencia4 & Competencia5 & Competencia6\\\\\n",
       "\\hline\n",
       "\tPromedio & 8        & 1.75     &  5       & 3.250000 & 4.250000 & 4       \\\\\n",
       "\tVarianza & 2        & 8.25     & 10       & 3.583333 & 6.916667 & 8       \\\\\n",
       "\tMaximo & 9        & 6.00     &  9       & 6.000000 & 7.000000 & 6       \\\\\n",
       "\\end{tabular}\n"
      ],
      "text/markdown": [
       "\n",
       "| <!--/--> | Competencia1 | Competencia2 | Competencia3 | Competencia4 | Competencia5 | Competencia6 |\n",
       "|---|---|---|---|---|---|---|\n",
       "| Promedio | 8        | 1.75     |  5       | 3.250000 | 4.250000 | 4        |\n",
       "| Varianza | 2        | 8.25     | 10       | 3.583333 | 6.916667 | 8        |\n",
       "| Maximo | 9        | 6.00     |  9       | 6.000000 | 7.000000 | 6        |\n",
       "\n"
      ],
      "text/plain": [
       "         Competencia1 Competencia2 Competencia3 Competencia4 Competencia5\n",
       "Promedio 8            1.75          5           3.250000     4.250000    \n",
       "Varianza 2            8.25         10           3.583333     6.916667    \n",
       "Maximo   9            6.00          9           6.000000     7.000000    \n",
       "         Competencia6\n",
       "Promedio 4           \n",
       "Varianza 8           \n",
       "Maximo   6           "
      ]
     },
     "metadata": {},
     "output_type": "display_data"
    }
   ],
   "source": [
    "aplicar(matriz)"
   ]
  },
  {
   "cell_type": "markdown",
   "metadata": {
    "hidden": true
   },
   "source": [
    "<div class = \"alert alert-danger\">\n",
    "Como se haria esta función usando ciclos\n",
    "</div>"
   ]
  },
  {
   "cell_type": "markdown",
   "metadata": {
    "heading_collapsed": true
   },
   "source": [
    "# lapply() y sapply()"
   ]
  },
  {
   "cell_type": "code",
   "execution_count": 93,
   "metadata": {
    "hidden": true
   },
   "outputs": [
    {
     "data": {
      "text/html": [
       "<table>\n",
       "<thead><tr><th scope=col>Ozone</th><th scope=col>Solar.R</th><th scope=col>Wind</th><th scope=col>Temp</th><th scope=col>Month</th><th scope=col>Day</th></tr></thead>\n",
       "<tbody>\n",
       "\t<tr><td>41  </td><td>190 </td><td> 7.4</td><td>67  </td><td>5   </td><td>1   </td></tr>\n",
       "\t<tr><td>36  </td><td>118 </td><td> 8.0</td><td>72  </td><td>5   </td><td>2   </td></tr>\n",
       "\t<tr><td>12  </td><td>149 </td><td>12.6</td><td>74  </td><td>5   </td><td>3   </td></tr>\n",
       "\t<tr><td>18  </td><td>313 </td><td>11.5</td><td>62  </td><td>5   </td><td>4   </td></tr>\n",
       "\t<tr><td>NA  </td><td> NA </td><td>14.3</td><td>56  </td><td>5   </td><td>5   </td></tr>\n",
       "\t<tr><td>28  </td><td> NA </td><td>14.9</td><td>66  </td><td>5   </td><td>6   </td></tr>\n",
       "</tbody>\n",
       "</table>\n"
      ],
      "text/latex": [
       "\\begin{tabular}{r|llllll}\n",
       " Ozone & Solar.R & Wind & Temp & Month & Day\\\\\n",
       "\\hline\n",
       "\t 41   & 190  &  7.4 & 67   & 5    & 1   \\\\\n",
       "\t 36   & 118  &  8.0 & 72   & 5    & 2   \\\\\n",
       "\t 12   & 149  & 12.6 & 74   & 5    & 3   \\\\\n",
       "\t 18   & 313  & 11.5 & 62   & 5    & 4   \\\\\n",
       "\t NA   &  NA  & 14.3 & 56   & 5    & 5   \\\\\n",
       "\t 28   &  NA  & 14.9 & 66   & 5    & 6   \\\\\n",
       "\\end{tabular}\n"
      ],
      "text/markdown": [
       "\n",
       "| Ozone | Solar.R | Wind | Temp | Month | Day |\n",
       "|---|---|---|---|---|---|\n",
       "| 41   | 190  |  7.4 | 67   | 5    | 1    |\n",
       "| 36   | 118  |  8.0 | 72   | 5    | 2    |\n",
       "| 12   | 149  | 12.6 | 74   | 5    | 3    |\n",
       "| 18   | 313  | 11.5 | 62   | 5    | 4    |\n",
       "| NA   |  NA  | 14.3 | 56   | 5    | 5    |\n",
       "| 28   |  NA  | 14.9 | 66   | 5    | 6    |\n",
       "\n"
      ],
      "text/plain": [
       "  Ozone Solar.R Wind Temp Month Day\n",
       "1 41    190      7.4 67   5     1  \n",
       "2 36    118      8.0 72   5     2  \n",
       "3 12    149     12.6 74   5     3  \n",
       "4 18    313     11.5 62   5     4  \n",
       "5 NA     NA     14.3 56   5     5  \n",
       "6 28     NA     14.9 66   5     6  "
      ]
     },
     "metadata": {},
     "output_type": "display_data"
    }
   ],
   "source": [
    "head(airquality)"
   ]
  },
  {
   "cell_type": "markdown",
   "metadata": {
    "hidden": true
   },
   "source": [
    "Seleccionar las colunas **Solar.R** y **wind**  y de entas encontrar su promedio."
   ]
  },
  {
   "cell_type": "code",
   "execution_count": 94,
   "metadata": {
    "hidden": true
   },
   "outputs": [
    {
     "data": {
      "text/html": [
       "<dl>\n",
       "\t<dt>$Solar.R</dt>\n",
       "\t\t<dd>185.931506849315</dd>\n",
       "\t<dt>$Wind</dt>\n",
       "\t\t<dd>9.95751633986928</dd>\n",
       "</dl>\n"
      ],
      "text/latex": [
       "\\begin{description}\n",
       "\\item[\\$Solar.R] 185.931506849315\n",
       "\\item[\\$Wind] 9.95751633986928\n",
       "\\end{description}\n"
      ],
      "text/markdown": [
       "$Solar.R\n",
       ":   185.931506849315\n",
       "$Wind\n",
       ":   9.95751633986928\n",
       "\n",
       "\n"
      ],
      "text/plain": [
       "$Solar.R\n",
       "[1] 185.9315\n",
       "\n",
       "$Wind\n",
       "[1] 9.957516\n"
      ]
     },
     "metadata": {},
     "output_type": "display_data"
    }
   ],
   "source": [
    "lapply(airquality[, 2:3], mean, na.rm = TRUE)"
   ]
  },
  {
   "cell_type": "code",
   "execution_count": 95,
   "metadata": {
    "hidden": true
   },
   "outputs": [
    {
     "data": {
      "text/html": [
       "<dl class=dl-horizontal>\n",
       "\t<dt>Solar.R</dt>\n",
       "\t\t<dd>185.931506849315</dd>\n",
       "\t<dt>Wind</dt>\n",
       "\t\t<dd>9.95751633986928</dd>\n",
       "</dl>\n"
      ],
      "text/latex": [
       "\\begin{description*}\n",
       "\\item[Solar.R] 185.931506849315\n",
       "\\item[Wind] 9.95751633986928\n",
       "\\end{description*}\n"
      ],
      "text/markdown": [
       "Solar.R\n",
       ":   185.931506849315Wind\n",
       ":   9.95751633986928\n",
       "\n"
      ],
      "text/plain": [
       "   Solar.R       Wind \n",
       "185.931507   9.957516 "
      ]
     },
     "metadata": {},
     "output_type": "display_data"
    }
   ],
   "source": [
    "sapply(airquality[, 2:3], mean, na.rm = TRUE)"
   ]
  },
  {
   "cell_type": "markdown",
   "metadata": {
    "hidden": true
   },
   "source": [
    "Elevar al cuadrado los primeros 5 elementos de la variable **Temp** y mostrarlos como partes de una lista."
   ]
  },
  {
   "cell_type": "code",
   "execution_count": 101,
   "metadata": {
    "hidden": true
   },
   "outputs": [
    {
     "data": {
      "text/html": [
       "<ol>\n",
       "\t<li>4489</li>\n",
       "\t<li>5184</li>\n",
       "\t<li>5476</li>\n",
       "\t<li>3844</li>\n",
       "\t<li>3136</li>\n",
       "</ol>\n"
      ],
      "text/latex": [
       "\\begin{enumerate}\n",
       "\\item 4489\n",
       "\\item 5184\n",
       "\\item 5476\n",
       "\\item 3844\n",
       "\\item 3136\n",
       "\\end{enumerate}\n"
      ],
      "text/markdown": [
       "1. 4489\n",
       "2. 5184\n",
       "3. 5476\n",
       "4. 3844\n",
       "5. 3136\n",
       "\n",
       "\n"
      ],
      "text/plain": [
       "[[1]]\n",
       "[1] 4489\n",
       "\n",
       "[[2]]\n",
       "[1] 5184\n",
       "\n",
       "[[3]]\n",
       "[1] 5476\n",
       "\n",
       "[[4]]\n",
       "[1] 3844\n",
       "\n",
       "[[5]]\n",
       "[1] 3136\n"
      ]
     },
     "metadata": {},
     "output_type": "display_data"
    }
   ],
   "source": [
    " lapply(airquality$Temp[1:5], function(x) x^2)"
   ]
  },
  {
   "cell_type": "code",
   "execution_count": 102,
   "metadata": {
    "hidden": true
   },
   "outputs": [
    {
     "data": {
      "text/html": [
       "<ol class=list-inline>\n",
       "\t<li>4489</li>\n",
       "\t<li>5184</li>\n",
       "\t<li>5476</li>\n",
       "\t<li>3844</li>\n",
       "\t<li>3136</li>\n",
       "</ol>\n"
      ],
      "text/latex": [
       "\\begin{enumerate*}\n",
       "\\item 4489\n",
       "\\item 5184\n",
       "\\item 5476\n",
       "\\item 3844\n",
       "\\item 3136\n",
       "\\end{enumerate*}\n"
      ],
      "text/markdown": [
       "1. 4489\n",
       "2. 5184\n",
       "3. 5476\n",
       "4. 3844\n",
       "5. 3136\n",
       "\n",
       "\n"
      ],
      "text/plain": [
       "[1] 4489 5184 5476 3844 3136"
      ]
     },
     "metadata": {},
     "output_type": "display_data"
    }
   ],
   "source": [
    "sapply(airquality$Temp[1:5], function(x) x^2)"
   ]
  },
  {
   "cell_type": "markdown",
   "metadata": {
    "hidden": true
   },
   "source": [
    "## Ejercicio"
   ]
  },
  {
   "cell_type": "markdown",
   "metadata": {
    "hidden": true
   },
   "source": [
    "<div class=\"alert alert-success\">\n",
    "Crear una función donde se vea la aplicación de esta función\n",
    "</div>"
   ]
  },
  {
   "cell_type": "markdown",
   "metadata": {
    "heading_collapsed": true
   },
   "source": [
    "# tapply() y by()"
   ]
  },
  {
   "cell_type": "code",
   "execution_count": 109,
   "metadata": {
    "hidden": true
   },
   "outputs": [
    {
     "data": {
      "text/html": [
       "<table>\n",
       "<thead><tr><th scope=col>instruction</th><th scope=col>expectation</th><th scope=col>rating</th></tr></thead>\n",
       "<tbody>\n",
       "\t<tr><td>good</td><td>high</td><td> 25 </td></tr>\n",
       "\t<tr><td>good</td><td>high</td><td>  0 </td></tr>\n",
       "\t<tr><td>good</td><td>high</td><td>-16 </td></tr>\n",
       "\t<tr><td>good</td><td>high</td><td>  5 </td></tr>\n",
       "\t<tr><td>good</td><td>high</td><td> 11 </td></tr>\n",
       "\t<tr><td>good</td><td>high</td><td> -6 </td></tr>\n",
       "</tbody>\n",
       "</table>\n"
      ],
      "text/latex": [
       "\\begin{tabular}{r|lll}\n",
       " instruction & expectation & rating\\\\\n",
       "\\hline\n",
       "\t good & high &  25 \\\\\n",
       "\t good & high &   0 \\\\\n",
       "\t good & high & -16 \\\\\n",
       "\t good & high &   5 \\\\\n",
       "\t good & high &  11 \\\\\n",
       "\t good & high &  -6 \\\\\n",
       "\\end{tabular}\n"
      ],
      "text/markdown": [
       "\n",
       "| instruction | expectation | rating |\n",
       "|---|---|---|\n",
       "| good | high |  25  |\n",
       "| good | high |   0  |\n",
       "| good | high | -16  |\n",
       "| good | high |   5  |\n",
       "| good | high |  11  |\n",
       "| good | high |  -6  |\n",
       "\n"
      ],
      "text/plain": [
       "  instruction expectation rating\n",
       "1 good        high         25   \n",
       "2 good        high          0   \n",
       "3 good        high        -16   \n",
       "4 good        high          5   \n",
       "5 good        high         11   \n",
       "6 good        high         -6   "
      ]
     },
     "metadata": {},
     "output_type": "display_data"
    }
   ],
   "source": [
    "base <- (carData::Adler)\n",
    "head(base)"
   ]
  },
  {
   "cell_type": "code",
   "execution_count": 116,
   "metadata": {
    "hidden": true
   },
   "outputs": [
    {
     "data": {
      "text/html": [
       "<dl class=dl-horizontal>\n",
       "\t<dt>good</dt>\n",
       "\t\t<dd>-6.91666666666667</dd>\n",
       "\t<dt>none</dt>\n",
       "\t\t<dd>-6.66666666666667</dd>\n",
       "\t<dt>scientific</dt>\n",
       "\t\t<dd>-3.05555555555556</dd>\n",
       "</dl>\n"
      ],
      "text/latex": [
       "\\begin{description*}\n",
       "\\item[good] -6.91666666666667\n",
       "\\item[none] -6.66666666666667\n",
       "\\item[scientific] -3.05555555555556\n",
       "\\end{description*}\n"
      ],
      "text/markdown": [
       "good\n",
       ":   -6.91666666666667none\n",
       ":   -6.66666666666667scientific\n",
       ":   -3.05555555555556\n",
       "\n"
      ],
      "text/plain": [
       "      good       none scientific \n",
       " -6.916667  -6.666667  -3.055556 "
      ]
     },
     "metadata": {},
     "output_type": "display_data"
    }
   ],
   "source": [
    "tapply(base$rating, base$instruction, mean, simplify =  T)"
   ]
  },
  {
   "cell_type": "code",
   "execution_count": 115,
   "metadata": {
    "hidden": true
   },
   "outputs": [
    {
     "data": {
      "text/html": [
       "<dl>\n",
       "\t<dt>$high</dt>\n",
       "\t\t<dd><ol class=list-inline>\n",
       "\t<li>12.5</li>\n",
       "\t<li>0</li>\n",
       "\t<li>-8</li>\n",
       "\t<li>2.5</li>\n",
       "\t<li>5.5</li>\n",
       "\t<li>-3</li>\n",
       "\t<li>21</li>\n",
       "\t<li>-1</li>\n",
       "\t<li>-6.5</li>\n",
       "\t<li>7</li>\n",
       "\t<li>2</li>\n",
       "\t<li>-11</li>\n",
       "\t<li>9.5</li>\n",
       "\t<li>3</li>\n",
       "\t<li>-3</li>\n",
       "\t<li>4.5</li>\n",
       "\t<li>6.5</li>\n",
       "\t<li>-1.5</li>\n",
       "\t<li>-9.5</li>\n",
       "\t<li>-12</li>\n",
       "\t<li>-2</li>\n",
       "\t<li>-12</li>\n",
       "\t<li>0</li>\n",
       "\t<li>-2</li>\n",
       "\t<li>2.5</li>\n",
       "\t<li>-0.5</li>\n",
       "\t<li>-4.5</li>\n",
       "\t<li>-2.5</li>\n",
       "\t<li>-3</li>\n",
       "\t<li>2</li>\n",
       "\t<li>-6.5</li>\n",
       "\t<li>-0.5</li>\n",
       "\t<li>-1.5</li>\n",
       "\t<li>-5.5</li>\n",
       "\t<li>-3</li>\n",
       "\t<li>-2</li>\n",
       "\t<li>-13</li>\n",
       "\t<li>-0.5</li>\n",
       "\t<li>11</li>\n",
       "\t<li>1.5</li>\n",
       "\t<li>-13</li>\n",
       "\t<li>2</li>\n",
       "\t<li>-10.5</li>\n",
       "\t<li>-9.5</li>\n",
       "\t<li>-6</li>\n",
       "\t<li>4.5</li>\n",
       "\t<li>-4.5</li>\n",
       "\t<li>-13.5</li>\n",
       "\t<li>-5</li>\n",
       "\t<li>-18.5</li>\n",
       "\t<li>0</li>\n",
       "\t<li>-5</li>\n",
       "\t<li>-3</li>\n",
       "\t<li>-5.5</li>\n",
       "</ol>\n",
       "</dd>\n",
       "\t<dt>$low</dt>\n",
       "\t\t<dd><ol class=list-inline>\n",
       "\t<li>-12.5</li>\n",
       "\t<li>-11.5</li>\n",
       "\t<li>-14</li>\n",
       "\t<li>-11</li>\n",
       "\t<li>-11</li>\n",
       "\t<li>-5</li>\n",
       "\t<li>-10</li>\n",
       "\t<li>-12</li>\n",
       "\t<li>-12</li>\n",
       "\t<li>-11</li>\n",
       "\t<li>-11.5</li>\n",
       "\t<li>-9.5</li>\n",
       "\t<li>-1</li>\n",
       "\t<li>6</li>\n",
       "\t<li>-4</li>\n",
       "\t<li>-8.5</li>\n",
       "\t<li>-15</li>\n",
       "\t<li>-11</li>\n",
       "\t<li>3</li>\n",
       "\t<li>-2.5</li>\n",
       "\t<li>7</li>\n",
       "\t<li>-5.5</li>\n",
       "\t<li>7</li>\n",
       "\t<li>-2.5</li>\n",
       "\t<li>-11</li>\n",
       "\t<li>3.5</li>\n",
       "\t<li>7</li>\n",
       "\t<li>7.5</li>\n",
       "\t<li>-3</li>\n",
       "\t<li>4.5</li>\n",
       "\t<li>-2.5</li>\n",
       "\t<li>-2.5</li>\n",
       "\t<li>-4.5</li>\n",
       "\t<li>1.5</li>\n",
       "\t<li>-2.5</li>\n",
       "\t<li>3</li>\n",
       "\t<li>-6</li>\n",
       "\t<li>-2</li>\n",
       "\t<li>6.5</li>\n",
       "\t<li>-13.5</li>\n",
       "\t<li>-3.5</li>\n",
       "\t<li>-10</li>\n",
       "\t<li>-2</li>\n",
       "\t<li>-5</li>\n",
       "\t<li>-1.5</li>\n",
       "\t<li>-5.5</li>\n",
       "\t<li>1</li>\n",
       "\t<li>-4.5</li>\n",
       "\t<li>10</li>\n",
       "\t<li>4.5</li>\n",
       "\t<li>-4</li>\n",
       "\t<li>4</li>\n",
       "\t<li>-3</li>\n",
       "\t<li>3</li>\n",
       "</ol>\n",
       "</dd>\n",
       "</dl>\n"
      ],
      "text/latex": [
       "\\begin{description}\n",
       "\\item[\\$high] \\begin{enumerate*}\n",
       "\\item 12.5\n",
       "\\item 0\n",
       "\\item -8\n",
       "\\item 2.5\n",
       "\\item 5.5\n",
       "\\item -3\n",
       "\\item 21\n",
       "\\item -1\n",
       "\\item -6.5\n",
       "\\item 7\n",
       "\\item 2\n",
       "\\item -11\n",
       "\\item 9.5\n",
       "\\item 3\n",
       "\\item -3\n",
       "\\item 4.5\n",
       "\\item 6.5\n",
       "\\item -1.5\n",
       "\\item -9.5\n",
       "\\item -12\n",
       "\\item -2\n",
       "\\item -12\n",
       "\\item 0\n",
       "\\item -2\n",
       "\\item 2.5\n",
       "\\item -0.5\n",
       "\\item -4.5\n",
       "\\item -2.5\n",
       "\\item -3\n",
       "\\item 2\n",
       "\\item -6.5\n",
       "\\item -0.5\n",
       "\\item -1.5\n",
       "\\item -5.5\n",
       "\\item -3\n",
       "\\item -2\n",
       "\\item -13\n",
       "\\item -0.5\n",
       "\\item 11\n",
       "\\item 1.5\n",
       "\\item -13\n",
       "\\item 2\n",
       "\\item -10.5\n",
       "\\item -9.5\n",
       "\\item -6\n",
       "\\item 4.5\n",
       "\\item -4.5\n",
       "\\item -13.5\n",
       "\\item -5\n",
       "\\item -18.5\n",
       "\\item 0\n",
       "\\item -5\n",
       "\\item -3\n",
       "\\item -5.5\n",
       "\\end{enumerate*}\n",
       "\n",
       "\\item[\\$low] \\begin{enumerate*}\n",
       "\\item -12.5\n",
       "\\item -11.5\n",
       "\\item -14\n",
       "\\item -11\n",
       "\\item -11\n",
       "\\item -5\n",
       "\\item -10\n",
       "\\item -12\n",
       "\\item -12\n",
       "\\item -11\n",
       "\\item -11.5\n",
       "\\item -9.5\n",
       "\\item -1\n",
       "\\item 6\n",
       "\\item -4\n",
       "\\item -8.5\n",
       "\\item -15\n",
       "\\item -11\n",
       "\\item 3\n",
       "\\item -2.5\n",
       "\\item 7\n",
       "\\item -5.5\n",
       "\\item 7\n",
       "\\item -2.5\n",
       "\\item -11\n",
       "\\item 3.5\n",
       "\\item 7\n",
       "\\item 7.5\n",
       "\\item -3\n",
       "\\item 4.5\n",
       "\\item -2.5\n",
       "\\item -2.5\n",
       "\\item -4.5\n",
       "\\item 1.5\n",
       "\\item -2.5\n",
       "\\item 3\n",
       "\\item -6\n",
       "\\item -2\n",
       "\\item 6.5\n",
       "\\item -13.5\n",
       "\\item -3.5\n",
       "\\item -10\n",
       "\\item -2\n",
       "\\item -5\n",
       "\\item -1.5\n",
       "\\item -5.5\n",
       "\\item 1\n",
       "\\item -4.5\n",
       "\\item 10\n",
       "\\item 4.5\n",
       "\\item -4\n",
       "\\item 4\n",
       "\\item -3\n",
       "\\item 3\n",
       "\\end{enumerate*}\n",
       "\n",
       "\\end{description}\n"
      ],
      "text/markdown": [
       "$high\n",
       ":   1. 12.5\n",
       "2. 0\n",
       "3. -8\n",
       "4. 2.5\n",
       "5. 5.5\n",
       "6. -3\n",
       "7. 21\n",
       "8. -1\n",
       "9. -6.5\n",
       "10. 7\n",
       "11. 2\n",
       "12. -11\n",
       "13. 9.5\n",
       "14. 3\n",
       "15. -3\n",
       "16. 4.5\n",
       "17. 6.5\n",
       "18. -1.5\n",
       "19. -9.5\n",
       "20. -12\n",
       "21. -2\n",
       "22. -12\n",
       "23. 0\n",
       "24. -2\n",
       "25. 2.5\n",
       "26. -0.5\n",
       "27. -4.5\n",
       "28. -2.5\n",
       "29. -3\n",
       "30. 2\n",
       "31. -6.5\n",
       "32. -0.5\n",
       "33. -1.5\n",
       "34. -5.5\n",
       "35. -3\n",
       "36. -2\n",
       "37. -13\n",
       "38. -0.5\n",
       "39. 11\n",
       "40. 1.5\n",
       "41. -13\n",
       "42. 2\n",
       "43. -10.5\n",
       "44. -9.5\n",
       "45. -6\n",
       "46. 4.5\n",
       "47. -4.5\n",
       "48. -13.5\n",
       "49. -5\n",
       "50. -18.5\n",
       "51. 0\n",
       "52. -5\n",
       "53. -3\n",
       "54. -5.5\n",
       "\n",
       "\n",
       "\n",
       "$low\n",
       ":   1. -12.5\n",
       "2. -11.5\n",
       "3. -14\n",
       "4. -11\n",
       "5. -11\n",
       "6. -5\n",
       "7. -10\n",
       "8. -12\n",
       "9. -12\n",
       "10. -11\n",
       "11. -11.5\n",
       "12. -9.5\n",
       "13. -1\n",
       "14. 6\n",
       "15. -4\n",
       "16. -8.5\n",
       "17. -15\n",
       "18. -11\n",
       "19. 3\n",
       "20. -2.5\n",
       "21. 7\n",
       "22. -5.5\n",
       "23. 7\n",
       "24. -2.5\n",
       "25. -11\n",
       "26. 3.5\n",
       "27. 7\n",
       "28. 7.5\n",
       "29. -3\n",
       "30. 4.5\n",
       "31. -2.5\n",
       "32. -2.5\n",
       "33. -4.5\n",
       "34. 1.5\n",
       "35. -2.5\n",
       "36. 3\n",
       "37. -6\n",
       "38. -2\n",
       "39. 6.5\n",
       "40. -13.5\n",
       "41. -3.5\n",
       "42. -10\n",
       "43. -2\n",
       "44. -5\n",
       "45. -1.5\n",
       "46. -5.5\n",
       "47. 1\n",
       "48. -4.5\n",
       "49. 10\n",
       "50. 4.5\n",
       "51. -4\n",
       "52. 4\n",
       "53. -3\n",
       "54. 3\n",
       "\n",
       "\n",
       "\n",
       "\n",
       "\n"
      ],
      "text/plain": [
       "$high\n",
       " [1]  12.5   0.0  -8.0   2.5   5.5  -3.0  21.0  -1.0  -6.5   7.0   2.0 -11.0\n",
       "[13]   9.5   3.0  -3.0   4.5   6.5  -1.5  -9.5 -12.0  -2.0 -12.0   0.0  -2.0\n",
       "[25]   2.5  -0.5  -4.5  -2.5  -3.0   2.0  -6.5  -0.5  -1.5  -5.5  -3.0  -2.0\n",
       "[37] -13.0  -0.5  11.0   1.5 -13.0   2.0 -10.5  -9.5  -6.0   4.5  -4.5 -13.5\n",
       "[49]  -5.0 -18.5   0.0  -5.0  -3.0  -5.5\n",
       "\n",
       "$low\n",
       " [1] -12.5 -11.5 -14.0 -11.0 -11.0  -5.0 -10.0 -12.0 -12.0 -11.0 -11.5  -9.5\n",
       "[13]  -1.0   6.0  -4.0  -8.5 -15.0 -11.0   3.0  -2.5   7.0  -5.5   7.0  -2.5\n",
       "[25] -11.0   3.5   7.0   7.5  -3.0   4.5  -2.5  -2.5  -4.5   1.5  -2.5   3.0\n",
       "[37]  -6.0  -2.0   6.5 -13.5  -3.5 -10.0  -2.0  -5.0  -1.5  -5.5   1.0  -4.5\n",
       "[49]  10.0   4.5  -4.0   4.0  -3.0   3.0\n"
      ]
     },
     "metadata": {},
     "output_type": "display_data"
    }
   ],
   "source": [
    "tapply(base$rating, base$expectation, function(x) x/2, simplify =  T)"
   ]
  },
  {
   "cell_type": "code",
   "execution_count": 119,
   "metadata": {
    "hidden": true
   },
   "outputs": [
    {
     "data": {
      "text/plain": [
       "base$expectation: high\n",
       "    0%    25%    50%    75%   100% \n",
       "-37.00 -11.75  -4.00   4.00  42.00 \n",
       "------------------------------------------------------------ \n",
       "base$expectation: low\n",
       "    0%    25%    50%    75%   100% \n",
       "-30.00 -20.00  -6.50   5.25  20.00 "
      ]
     },
     "metadata": {},
     "output_type": "display_data"
    }
   ],
   "source": [
    "by(base$rating, base$expectation, quantile, simplify =  F)"
   ]
  },
  {
   "cell_type": "code",
   "execution_count": 120,
   "metadata": {
    "hidden": true,
    "scrolled": false
   },
   "outputs": [
    {
     "data": {
      "text/html": [
       "<dl>\n",
       "\t<dt>$high</dt>\n",
       "\t\t<dd><dl class=dl-horizontal>\n",
       "\t<dt>0%</dt>\n",
       "\t\t<dd>-37</dd>\n",
       "\t<dt>25%</dt>\n",
       "\t\t<dd>-11.75</dd>\n",
       "\t<dt>50%</dt>\n",
       "\t\t<dd>-4</dd>\n",
       "\t<dt>75%</dt>\n",
       "\t\t<dd>4</dd>\n",
       "\t<dt>100%</dt>\n",
       "\t\t<dd>42</dd>\n",
       "</dl>\n",
       "</dd>\n",
       "\t<dt>$low</dt>\n",
       "\t\t<dd><dl class=dl-horizontal>\n",
       "\t<dt>0%</dt>\n",
       "\t\t<dd>-30</dd>\n",
       "\t<dt>25%</dt>\n",
       "\t\t<dd>-20</dd>\n",
       "\t<dt>50%</dt>\n",
       "\t\t<dd>-6.5</dd>\n",
       "\t<dt>75%</dt>\n",
       "\t\t<dd>5.25</dd>\n",
       "\t<dt>100%</dt>\n",
       "\t\t<dd>20</dd>\n",
       "</dl>\n",
       "</dd>\n",
       "</dl>\n"
      ],
      "text/latex": [
       "\\begin{description}\n",
       "\\item[\\$high] \\begin{description*}\n",
       "\\item[0\\textbackslash{}\\%] -37\n",
       "\\item[25\\textbackslash{}\\%] -11.75\n",
       "\\item[50\\textbackslash{}\\%] -4\n",
       "\\item[75\\textbackslash{}\\%] 4\n",
       "\\item[100\\textbackslash{}\\%] 42\n",
       "\\end{description*}\n",
       "\n",
       "\\item[\\$low] \\begin{description*}\n",
       "\\item[0\\textbackslash{}\\%] -30\n",
       "\\item[25\\textbackslash{}\\%] -20\n",
       "\\item[50\\textbackslash{}\\%] -6.5\n",
       "\\item[75\\textbackslash{}\\%] 5.25\n",
       "\\item[100\\textbackslash{}\\%] 20\n",
       "\\end{description*}\n",
       "\n",
       "\\end{description}\n"
      ],
      "text/markdown": [
       "$high\n",
       ":   0%\n",
       ":   -3725%\n",
       ":   -11.7550%\n",
       ":   -475%\n",
       ":   4100%\n",
       ":   42\n",
       "\n",
       "\n",
       "$low\n",
       ":   0%\n",
       ":   -3025%\n",
       ":   -2050%\n",
       ":   -6.575%\n",
       ":   5.25100%\n",
       ":   20\n",
       "\n",
       "\n",
       "\n",
       "\n"
      ],
      "text/plain": [
       "$high\n",
       "    0%    25%    50%    75%   100% \n",
       "-37.00 -11.75  -4.00   4.00  42.00 \n",
       "\n",
       "$low\n",
       "    0%    25%    50%    75%   100% \n",
       "-30.00 -20.00  -6.50   5.25  20.00 \n"
      ]
     },
     "metadata": {},
     "output_type": "display_data"
    }
   ],
   "source": [
    "tapply(base$rating, base$expectation, quantile, simplify =  F)"
   ]
  },
  {
   "cell_type": "markdown",
   "metadata": {
    "hidden": true
   },
   "source": [
    "## Ejercicio"
   ]
  },
  {
   "cell_type": "markdown",
   "metadata": {
    "hidden": true
   },
   "source": [
    "<div class=\"alert alert-success\">\n",
    "Crear una función donde se vea la aplicación de esta función\n",
    "</div>"
   ]
  },
  {
   "cell_type": "code",
   "execution_count": null,
   "metadata": {
    "hidden": true
   },
   "outputs": [],
   "source": []
  }
 ],
 "metadata": {
  "kernelspec": {
   "display_name": "R",
   "language": "R",
   "name": "ir"
  },
  "language_info": {
   "codemirror_mode": "r",
   "file_extension": ".r",
   "mimetype": "text/x-r-source",
   "name": "R",
   "pygments_lexer": "r",
   "version": "3.5.1"
  },
  "latex_envs": {
   "LaTeX_envs_menu_present": true,
   "autoclose": false,
   "autocomplete": true,
   "bibliofile": "biblio.bib",
   "cite_by": "apalike",
   "current_citInitial": 1,
   "eqLabelWithNumbers": true,
   "eqNumInitial": 1,
   "hotkeys": {
    "equation": "Ctrl-E",
    "itemize": "Ctrl-I"
   },
   "labels_anchors": false,
   "latex_user_defs": false,
   "report_style_numbering": false,
   "user_envs_cfg": false
  },
  "toc": {
   "base_numbering": 1,
   "nav_menu": {
    "height": "193px",
    "width": "184px"
   },
   "number_sections": true,
   "sideBar": true,
   "skip_h1_title": false,
   "title_cell": "Table of Contents",
   "title_sidebar": "Contents",
   "toc_cell": false,
   "toc_position": {},
   "toc_section_display": true,
   "toc_window_display": false
  }
 },
 "nbformat": 4,
 "nbformat_minor": 2
}
